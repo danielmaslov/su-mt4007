{
 "cells": [
  {
   "cell_type": "markdown",
   "id": "0fb19412-b2b9-49df-872e-54598aae86c0",
   "metadata": {},
   "source": [
    "# Homework 2 Report\n",
    "\n",
    "### APARMENT PRICES ###\n",
    "The followung data is found in Booli_sold.csv and contains data on sales of apartments in Ekhagen.\n",
    "# Task 1: Calculate the price per square meter\n",
    "First task is to calculate the price per square meter and add it to the dataset"
   ]
  },
  {
   "cell_type": "code",
   "execution_count": 1,
   "id": "aa241fd2-6404-457f-81a0-6515437190a4",
   "metadata": {},
   "outputs": [
    {
     "name": "stdout",
     "output_type": "stream",
     "text": [
      "Index(['listPrice', 'rent', 'livingArea', 'rooms', 'published',\n",
      "       'constructionYear', 'objectType', 'booliId', 'soldDate', 'soldPrice',\n",
      "       'soldPriceSource', 'url', 'floor', 'additionalArea', 'apartmentNumber',\n",
      "       'plotArea', 'location.address.streetAddress',\n",
      "       'location.position.latitude', 'location.position.longitude',\n",
      "       'location.position.isApproximate', 'location.region.municipalityName',\n",
      "       'location.region.countyName', 'location.distance.ocean', 'source.name',\n",
      "       'source.id', 'source.type', 'source.url', 'ppsqm'],\n",
      "      dtype='object')\n"
     ]
    }
   ],
   "source": [
    "import pandas as pd\n",
    "data = pd.read_csv('Booli_sold.csv')\n",
    "\n",
    "data['ppsqm'] = data['soldPrice'] / data['livingArea']\n",
    "print(data.columns)"
   ]
  },
  {
   "cell_type": "markdown",
   "id": "d99b2bc2-3714-4433-b590-9280668f6bcf",
   "metadata": {},
   "source": [
    "From the output above, we see that a new column named 'ppsqm' has been created "
   ]
  },
  {
   "cell_type": "markdown",
   "id": "3cca6ca1-bf93-464b-bc45-7ad691835ce1",
   "metadata": {},
   "source": [
    "# Task 2: Rank the top 5 most expensive apartments w.r.t ppsqm\n",
    "Next task, rank the top 5 most expensive apartments w.r.t ppsqm using a sort_values function"
   ]
  },
  {
   "cell_type": "code",
   "execution_count": 2,
   "id": "cf06c585-fac2-4668-9447-22043600a1db",
   "metadata": {},
   "outputs": [
    {
     "name": "stdout",
     "output_type": "stream",
     "text": [
      "    listPrice    rent  livingArea  rooms            published  \\\n",
      "67    1595000  1464.0        24.0    1.0  2016-01-07 14:51:06   \n",
      "50    1890000  1464.0        24.0    1.0  2016-06-11 08:55:51   \n",
      "54    1795000  1374.0        23.0    1.0  2016-04-15 19:10:49   \n",
      "34    1750000  1144.0        25.0    1.0  2017-05-18 16:20:57   \n",
      "55    1895000  1522.0        26.9    1.0  2016-04-01 22:56:37   \n",
      "\n",
      "    constructionYear objectType  booliId    soldDate  soldPrice  ...  \\\n",
      "67            1935.0   Lägenhet  2018259  2016-01-21    2500000  ...   \n",
      "50            1935.0   Lägenhet  2125576  2016-06-21    2450000  ...   \n",
      "54            1935.0   Lägenhet  2078171  2016-04-28    2300000  ...   \n",
      "34            1936.0   Lägenhet  2330886  2017-06-01    2210000  ...   \n",
      "55            1968.0   Lägenhet  2067384  2016-04-19    2300000  ...   \n",
      "\n",
      "   location.position.longitude location.position.isApproximate  \\\n",
      "67                   18.055270                             NaN   \n",
      "50                   18.055270                             NaN   \n",
      "54                   18.055422                            True   \n",
      "34                   18.053880                             NaN   \n",
      "55                   18.058529                            True   \n",
      "\n",
      "    location.region.municipalityName  location.region.countyName  \\\n",
      "67                         Stockholm              Stockholms län   \n",
      "50                         Stockholm              Stockholms län   \n",
      "54                         Stockholm              Stockholms län   \n",
      "34                         Stockholm              Stockholms län   \n",
      "55                         Stockholm              Stockholms län   \n",
      "\n",
      "    location.distance.ocean    source.name source.id  source.type  \\\n",
      "67                      161          Notar      1566       Broker   \n",
      "50                      161  HusmanHagberg      1610       Broker   \n",
      "54                      135          Notar      1566       Broker   \n",
      "34                      218  HusmanHagberg      1610       Broker   \n",
      "55                      298          Notar      1566       Broker   \n",
      "\n",
      "                      source.url          ppsqm  \n",
      "67          http://www.notar.se/  104166.666667  \n",
      "50  http://www.husmanhagberg.se/  102083.333333  \n",
      "54          http://www.notar.se/  100000.000000  \n",
      "34  http://www.husmanhagberg.se/   88400.000000  \n",
      "55          http://www.notar.se/   85501.858736  \n",
      "\n",
      "[5 rows x 28 columns]\n"
     ]
    }
   ],
   "source": [
    "top_5_expensive = data.sort_values(by='ppsqm', ascending=False).head(5)\n",
    "\n",
    "print(top_5_expensive)"
   ]
  },
  {
   "cell_type": "markdown",
   "id": "3ff45c81-e719-4c7e-abf1-4f88b7bcf52f",
   "metadata": {},
   "source": [
    "This table is difficult to read due to all the rows. Lets just take out some of the information for the top 5 most expensive appartments w.r.t ppsqm."
   ]
  },
  {
   "cell_type": "code",
   "execution_count": 3,
   "id": "4d5beab6-a9ed-4430-b4c5-04579e97ab96",
   "metadata": {},
   "outputs": [
    {
     "name": "stdout",
     "output_type": "stream",
     "text": [
      "   location.address.streetAddress  soldPrice  livingArea          ppsqm\n",
      "67                  Ekhagsvägen 8    2500000        24.0  104166.666667\n",
      "50                  Ekhagsvägen 8    2450000        24.0  102083.333333\n",
      "54                 Ekhagsvägen 10    2300000        23.0  100000.000000\n",
      "34                Torphagsvägen 4    2210000        25.0   88400.000000\n",
      "55                Docentbacken 1B    2300000        26.9   85501.858736\n"
     ]
    }
   ],
   "source": [
    "print(top_5_expensive[['location.address.streetAddress','soldPrice', 'livingArea', 'ppsqm']])\n"
   ]
  },
  {
   "cell_type": "markdown",
   "id": "a917827a-8baa-4244-8371-4c3d1de71b0a",
   "metadata": {},
   "source": [
    "# Task 3: What is the average ppsqm in the dataset?\n",
    "\n",
    "Next task is to get the average ppsqm. "
   ]
  },
  {
   "cell_type": "code",
   "execution_count": 10,
   "id": "63daf1e4-6f80-4ddf-8b53-8169eec7d43f",
   "metadata": {},
   "outputs": [
    {
     "name": "stdout",
     "output_type": "stream",
     "text": [
      "58759.382760081724\n"
     ]
    }
   ],
   "source": [
    "average_ppsqm = data['ppsqm'].mean()\n",
    "\n",
    "print(average_ppsqm)"
   ]
  },
  {
   "cell_type": "markdown",
   "id": "4675da14-d79d-4ffd-83e9-6e22202a6087",
   "metadata": {},
   "source": [
    "Compared to highest ppsqm, this is almost half of that"
   ]
  },
  {
   "cell_type": "markdown",
   "id": "d95b2b38-e88a-4b55-b4b5-d0ca5ace21c0",
   "metadata": {},
   "source": [
    "# Task 4: Highlight an aspect of the data that you find interesting. Explain your choice."
   ]
  },
  {
   "cell_type": "markdown",
   "id": "f2e33281-2e4a-4fdb-bc79-83017cf15e9c",
   "metadata": {},
   "source": [
    "My choice: the maximum rent for apartments. why? Good to know since you are most likely paying your loan and rent together each month"
   ]
  },
  {
   "cell_type": "code",
   "execution_count": 12,
   "id": "8f32bc7e-ff58-4928-8e9e-0e9ec564206d",
   "metadata": {},
   "outputs": [
    {
     "name": "stdout",
     "output_type": "stream",
     "text": [
      "Row with Maximum Rent:\n",
      "listPrice                                                       6450000\n",
      "rent                                                             7962.0\n",
      "livingArea                                                        138.0\n",
      "rooms                                                               6.0\n",
      "published                                           2015-12-31 02:44:25\n",
      "constructionYear                                                 1935.0\n",
      "objectType                                                     Lägenhet\n",
      "booliId                                                         2011370\n",
      "soldDate                                                     2016-01-14\n",
      "soldPrice                                                       6450000\n",
      "soldPriceSource                                                     bid\n",
      "url                                 https://www.booli.se/annons/2011370\n",
      "floor                                                               2.0\n",
      "additionalArea                                                      NaN\n",
      "apartmentNumber                                                  1204.0\n",
      "plotArea                                                            NaN\n",
      "location.address.streetAddress                          Torphagsvägen 6\n",
      "location.position.latitude                                    59.371644\n",
      "location.position.longitude                                   18.053235\n",
      "location.position.isApproximate                                    True\n",
      "location.region.municipalityName                              Stockholm\n",
      "location.region.countyName                               Stockholms län\n",
      "location.distance.ocean                                             225\n",
      "source.name                                             Fastighetsbyrån\n",
      "source.id                                                          1573\n",
      "source.type                                                      Broker\n",
      "source.url                               http://www.fastighetsbyran.se/\n",
      "ppsqm                                                      46739.130435\n",
      "Name: 68, dtype: object\n"
     ]
    }
   ],
   "source": [
    "max_rent_index = data['rent'].idxmax()\n",
    "\n",
    "max_rent_row = data.loc[max_rent_index]\n",
    "\n",
    "print(\"Row with Maximum Rent:\")\n",
    "print(max_rent_row)"
   ]
  },
  {
   "cell_type": "markdown",
   "id": "ae8d72e5-82ec-44d6-8b46-9283b6cff40d",
   "metadata": {},
   "source": [
    "### THE SWEDISH ELECTION ###\n",
    "\n",
    "# Task 1: Calculate the total number of legitimate votes\n",
    "\n",
    "The next task is to calculate the total number of legitimate votes (Giltiga Röster) in Stockholm during the election. "
   ]
  },
  {
   "cell_type": "code",
   "execution_count": 7,
   "id": "5dcd9bd8-04da-497c-9964-96659580eef2",
   "metadata": {},
   "outputs": [
    {
     "name": "stdout",
     "output_type": "stream",
     "text": [
      "1426237\n"
     ]
    }
   ],
   "source": [
    "election_data = pd.read_csv('2018_R_per_kommun.csv', sep=';')\n",
    "\n",
    "stockholm_data = election_data[election_data['LÄNSNAMN'] == 'Stockholms län']\n",
    "\n",
    "# Sum the 'RÖSTER GILTIGA' values for Stockholm\n",
    "eligible_votes = stockholm_data['RÖSTER GILTIGA'].sum()\n",
    "\n",
    "# Print the result\n",
    "print(eligible_votes)"
   ]
  },
  {
   "cell_type": "markdown",
   "id": "9e03e1ec-c5fa-4598-beae-e73591d1c4b5",
   "metadata": {},
   "source": [
    "There were around 1.4 million eligable votes "
   ]
  },
  {
   "cell_type": "markdown",
   "id": "cf2364a9-3dde-46d1-a5ba-f5999b711d5f",
   "metadata": {},
   "source": [
    "# Task 2: Find the index of the maximum votes for 'S'"
   ]
  },
  {
   "cell_type": "code",
   "execution_count": 8,
   "id": "435582b3-9c85-44d7-9dba-02b2bec244a4",
   "metadata": {},
   "outputs": [
    {
     "name": "stdout",
     "output_type": "stream",
     "text": [
      "KOMMUNNAMN with Maximum Votes for 'S': Danderyd\n"
     ]
    }
   ],
   "source": [
    "max_vote_index = election_data['S'].idxmax()\n",
    "\n",
    "max_vote_kommunnamn = election_data.loc[max_vote_index, 'KOMMUNNAMN']\n",
    "\n",
    "print(\"KOMMUNNAMN with Maximum Votes for 'S':\", max_vote_kommunnamn)"
   ]
  },
  {
   "cell_type": "markdown",
   "id": "b1b4cb0d-453e-4e7a-ad84-72c2bbf6defb",
   "metadata": {},
   "source": [
    "This is obvious wrong but nothing in the code suggests that it would be wrong? "
   ]
  },
  {
   "cell_type": "markdown",
   "id": "3b802bcc-ea9c-45a4-8473-79d199866ec5",
   "metadata": {},
   "source": [
    "# Task 3: Rank the (3) municipalities with the highest participation (valdeltagande)."
   ]
  },
  {
   "cell_type": "code",
   "execution_count": 14,
   "id": "a8fa8b92-c60b-42b4-bee1-759245449446",
   "metadata": {},
   "outputs": [
    {
     "name": "stdout",
     "output_type": "stream",
     "text": [
      "    VALDELTAGANDE KOMMUNNAMN\n",
      "103         93,86      Lomma\n",
      "59          93,35       Habo\n",
      "98          93,13   Vellinge\n"
     ]
    }
   ],
   "source": [
    "top_3_values = election_data.sort_values(by=\"VALDELTAGANDE\", ascending=False).head(3)\n",
    "\n",
    "top_3_values = top_3_values[['VALDELTAGANDE', 'KOMMUNNAMN']]\n",
    "\n",
    "# Print the result\n",
    "print(top_3_values)"
   ]
  },
  {
   "cell_type": "markdown",
   "id": "3f719de9-ddfa-4f87-a688-2aacd14cda2f",
   "metadata": {},
   "source": [
    "### PREDICTING STROKES ###\n"
   ]
  },
  {
   "cell_type": "code",
   "execution_count": 16,
   "id": "d143fca8-88cd-482a-b171-edbdbfe394d9",
   "metadata": {},
   "outputs": [
    {
     "data": {
      "image/png": "[encoded data removed]",
      "text/plain": [
       "<Figure size 640x480 with 1 Axes>"
      ]
     },
     "metadata": {},
     "output_type": "display_data"
    }
   ],
   "source": [
    "\n",
    "\n",
    "import matplotlib.pyplot as plt\n",
    "\n",
    "data_stroke = pd.read_csv('stroke-data.csv')\n",
    "\n",
    "stroke_only = data_stroke[data_stroke['stroke'] == 1]\n",
    "\n",
    "gender_counts_stroke = stroke_only['gender'].value_counts()\n",
    "\n",
    "gender_counts_stroke.plot(kind='bar', stacked=True, color=['salmon', 'skyblue'])\n",
    "plt.title('Gender Distribution for Stroke Cases')\n",
    "plt.xlabel('Gender')\n",
    "plt.ylabel('Count')\n",
    "plt.xticks(rotation=0)\n",
    "plt.show()\n"
   ]
  },
  {
   "cell_type": "markdown",
   "id": "353620fd-1ba8-487a-b0a7-907318354e33",
   "metadata": {},
   "source": [
    "From this simple graph we can see that females are the gender with the most cases of strokes in the dataset. But how many females are there in the sample?  "
   ]
  },
  {
   "cell_type": "code",
   "execution_count": 17,
   "id": "e7a74c5c-5829-4add-8aa5-7845364242f2",
   "metadata": {},
   "outputs": [
    {
     "name": "stdout",
     "output_type": "stream",
     "text": [
      "gender\n",
      "Female    2994\n",
      "Male      2115\n",
      "Other        1\n",
      "Name: count, dtype: int64\n"
     ]
    }
   ],
   "source": [
    "gender_counts = data_stroke['gender'].value_counts()\n",
    "\n",
    "\n",
    "print(gender_counts)"
   ]
  },
  {
   "cell_type": "markdown",
   "id": "954f0f69-6ae3-4a35-8c73-5cd6f90ec35c",
   "metadata": {},
   "source": [
    "The distribution is roughly the same so no real difference really! "
   ]
  },
  {
   "cell_type": "code",
   "execution_count": null,
   "id": "5cc8af81-a52e-4dc2-9570-7f27272c77d6",
   "metadata": {},
   "outputs": [],
   "source": []
  }
 ],
 "metadata": {
  "kernelspec": {
   "display_name": "Python 3 (ipykernel)",
   "language": "python",
   "name": "python3"
  },
  "language_info": {
   "codemirror_mode": {
    "name": "ipython",
    "version": 3
   },
   "file_extension": ".py",
   "mimetype": "text/x-python",
   "name": "python",
   "nbconvert_exporter": "python",
   "pygments_lexer": "ipython3",
   "version": "3.13.0"
  }
 },
 "nbformat": 4,
 "nbformat_minor": 5
}
