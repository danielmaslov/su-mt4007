{
 "cells": [
  {
   "cell_type": "markdown",
   "id": "2626f009-b047-494c-bc00-7d92bea042a4",
   "metadata": {},
   "source": [
    "# Homework 1\n",
    "\n",
    "## Brief Description of Myself and my background\n",
    "Hello, I am a very curious individual that thrives in a learning enviroment. My background in data analysis mostly revolves around worked on various projects involving data exploration, statistical analysis and modeling. I have also read courses in machine learning and applied matematics \n"
   ]
  },
  {
   "cell_type": "code",
   "execution_count": null,
   "id": "d5a76fad-6922-4feb-8909-adc50e0afb71",
   "metadata": {},
   "outputs": [],
   "source": []
  }
 ],
 "metadata": {
  "kernelspec": {
   "display_name": "Python 3 (ipykernel)",
   "language": "python",
   "name": "python3"
  },
  "language_info": {
   "codemirror_mode": {
    "name": "ipython",
    "version": 3
   },
   "file_extension": ".py",
   "mimetype": "text/x-python",
   "name": "python",
   "nbconvert_exporter": "python",
   "pygments_lexer": "ipython3",
   "version": "3.13.0"
  }
 },
 "nbformat": 4,
 "nbformat_minor": 5
}
